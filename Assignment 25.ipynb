{
 "cells": [
  {
   "cell_type": "code",
   "execution_count": null,
   "id": "085a952b",
   "metadata": {},
   "outputs": [],
   "source": [
    "1) . What is the difference between enclosing a list comprehension in square \n",
    "brackets and parentheses?\n",
    "\n",
    "Enclosing a list comprehension in square brackets returns a list.\n",
    "but where as enclosing a list comprehension in parentheses returns a generator \n",
    "object\n",
    "\n",
    "l = [ele for ele in range(10)]\n",
    "print(l, type(l))\n",
    "g = (ele for ele in range(10))\n",
    "print(g, type(g))"
   ]
  },
  {
   "cell_type": "code",
   "execution_count": null,
   "id": "44d5c174",
   "metadata": {},
   "outputs": [],
   "source": [
    "2) What is the relationship between generators and iterators?\n",
    "\n",
    "An iterator is an object which contains a countable number of values and it \n",
    "is used to iterate over iterable objects like list, tuples, sets, etc. \n",
    "Iterators are implemented using a class and a local variable for iterating \n",
    "is not required here, It follows lazy evaluation where the evaluation of the \n",
    "expression will be on hold and stored in the memory until the item is called \n",
    "specifically which helps us to avoid repeated evaluation. As lazy evaluation \n",
    "is implemented, it requires only 1 memory location to process the value and \n",
    "when we are using a large dataset then, wastage of RAM space will be reduced \n",
    "the need to load the entire dataset at the same time will not be there.\n",
    "\n",
    "Using an iterator-\n",
    "\n",
    "iter() keyword is used to create an iterator containing an iterable object.\n",
    "next() keyword is used to call the next element in the iterable object.\n",
    "After the iterable object is completed, to use them again reassign them to the same object.\n",
    "\n",
    "Similarly Generators are an another way of creating iterators in a simple way\n",
    "where it uses the keyword yield statement instead of return statement in a \n",
    "defined function.Generators are implemented using a function. Just as \n",
    "iterators, generators also follow lazy evaluation. Here, the yield function \n",
    "returns the data without affecting or exiting the function. It will return a\n",
    "sequence of data in an iterable format where we need to iterate over the \n",
    "sequence to use the data as they won’t store the entire sequence in the \n",
    "memory."
   ]
  },
  {
   "cell_type": "code",
   "execution_count": null,
   "id": "dfd386e7",
   "metadata": {},
   "outputs": [],
   "source": [
    "3) What are the signs that a function is a generator function?\n",
    "\n",
    "A generator function uses a yield statement instead of a return statement. \n",
    "A generator function will always return a iterable object called generator. \n",
    "where as a normal function can return a string/list/tuple/dict/NoneType ... \n",
    "etc"
   ]
  },
  {
   "cell_type": "code",
   "execution_count": null,
   "id": "4668f2a4",
   "metadata": {},
   "outputs": [],
   "source": [
    "4) What is the purpose of a yield statement?\n",
    "\n",
    "The yield statement suspends function’s execution and sends a value back to \n",
    "the caller, but retains enough state to enable function to resume where it \n",
    "is left off. When resumed, the function continues execution immediately after\n",
    "the last yield run. This allows its code to produce a series of values over \n",
    "time, rather than computing them at once and sending them back like a list."
   ]
  },
  {
   "cell_type": "code",
   "execution_count": null,
   "id": "cdd4cdd9",
   "metadata": {},
   "outputs": [],
   "source": [
    "5) What is the relationship between map calls and list comprehensions? Make a comparison and contrast between the two ?\n",
    "\n",
    "The main differences between map calls and list comprehensiosn are:\n",
    "\n",
    "List comprehension is more concise and easier to read as compared to map.\n",
    "List comprehension allows filtering. In map, we have no such facility. For example, to print all odd numbers in range of 50, we can write [n for n in range(50) if n%2 != 0]. There is no alternate for it in map\n",
    "List comprehension are used when a list of results is required as final output.but map only returns a map object. it needs to be explicitly coverted to desired datatype.\n",
    "List comprehension is faster than map when we need to evaluate expressions that are too long or complicated to express\n",
    "Map is faster in case of calling an already defined function on a set of values"
   ]
  }
 ],
 "metadata": {
  "kernelspec": {
   "display_name": "Python 3 (ipykernel)",
   "language": "python",
   "name": "python3"
  },
  "language_info": {
   "codemirror_mode": {
    "name": "ipython",
    "version": 3
   },
   "file_extension": ".py",
   "mimetype": "text/x-python",
   "name": "python",
   "nbconvert_exporter": "python",
   "pygments_lexer": "ipython3",
   "version": "3.11.3"
  }
 },
 "nbformat": 4,
 "nbformat_minor": 5
}
